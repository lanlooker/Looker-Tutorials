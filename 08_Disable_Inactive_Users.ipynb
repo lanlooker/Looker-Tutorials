{
  "nbformat": 4,
  "nbformat_minor": 0,
  "metadata": {
    "colab": {
      "name": "08_Disable_Inactive_Users.ipynb",
      "provenance": [],
      "collapsed_sections": [],
      "toc_visible": true,
      "include_colab_link": true
    },
    "kernelspec": {
      "display_name": "Python 3",
      "name": "python3"
    }
  },
  "cells": [
    {
      "cell_type": "markdown",
      "metadata": {
        "id": "view-in-github",
        "colab_type": "text"
      },
      "source": [
        "<a href=\"https://colab.research.google.com/github/lanlooker/Looker-Tutorials/blob/main/08_Disable_Inactive_Users.ipynb\" target=\"_parent\"><img src=\"https://colab.research.google.com/assets/colab-badge.svg\" alt=\"Open In Colab\"/></a>"
      ]
    },
    {
      "cell_type": "markdown",
      "metadata": {
        "id": "U9XdoaB6bKn_"
      },
      "source": [
        "**Purpose**: This script disables users based on the number of days users have not logged into a Looker instance. \n",
        "\n",
        "Please click \"Open in Colab\" to run the script as a one-off task. The script can be downloaded as a .py file to run inside a server (refer to [this page](https://github.com/looker-open-source/sdk-codegen/blob/main/README.md#configuring-lookerini-or-env\n",
        ") to learn about `init` file) \n",
        "\n",
        "**How to run as a one-off task in Google Colab**: \n",
        "1. Provide client ID and secret key in the first cell, and run it\n",
        "2. Run the remaining cells to call functions. \n",
        "\n",
        "**Note**: The script is out of scope for Looker chat support. For questions and comments, please post in Looker Community. "
      ]
    },
    {
      "cell_type": "code",
      "metadata": {
        "id": "yQk9RXssbJrj"
      },
      "source": [
        "!pip install looker_sdk\n",
        "import looker_sdk\n",
        "import os\n",
        "\n",
        "os.environ['LOOKERSDK_BASE_URL'] = 'https://company.looker.com:19999'\n",
        "os.environ['LOOKERSDK_CLIENT_ID'] = 'foo'\n",
        "os.environ['LOOKERSDK_CLIENT_SECRET'] = 'bar'\n",
        "\n",
        "#Initialize the SDK\n",
        "sdk = looker_sdk.init40() "
      ],
      "execution_count": null,
      "outputs": []
    },
    {
      "cell_type": "code",
      "metadata": {
        "id": "a2Jxpfck6fEY"
      },
      "source": [
        "def deactivate(auth_method, days):\n",
        "  '''Deactivate unengaged users who have not logged into a Looker instance in the\n",
        "  past amount of days. \n",
        "\n",
        "  Args:\n",
        "  auth_method (str): Possible input are 'email', 'embed', 'google' (Google OAuth), \n",
        "  'ldap', 'looker_openid', saml', 'oidc', 'totp'\n",
        "  days(int): Number of days since last attempted UI login\n",
        "  '''\n",
        "\n",
        "  '''The all_users() method returns all users in a Looker instance. To use search\n",
        "  patterns, use search_users(), or search_users_names()'''\n",
        "  users = sdk.all_users()\n",
        "\n",
        "  '''In Looker UI, a non-embed user usually has one primary authentication method\n",
        "  (usually email or SSO). In calling API/SDK call, all authentication methods will\n",
        "  be returned, with non-active authentication returned as an empty dictionary'''\n",
        "  auth = \"credentials_\" + auth_method\n",
        "\n",
        "  '''A user with a valid authentication method but never logged in has the value \n",
        "  for \"logged_in_at\" as an empty string.''' \n",
        "  users_with_login_date = list(filter(lambda user:user[auth] is not None \n",
        "                                      and user[auth][\"logged_in_at\"] != \"\", users))\n",
        "\n",
        "  if len(users_with_login_date) == 0:\n",
        "    return (\"No users are using the provided authentication method\")\n",
        "  \n",
        "  else:\n",
        "    user_deactivated_count = 0\n",
        "    user_skip_count = 0\n",
        "    for user in users_with_login_date:\n",
        "      last_login_date_str = user[auth][\"logged_in_at\"][0:10]\n",
        "      last_login_date = datetime.strptime(last_login_date_str,'%Y-%m-%d')\n",
        "      days_since_last_login = abs(datetime.now() - last_login_date).days\n",
        "      if days_since_last_login > days:\n",
        "        sdk.update_user(user_id = user[\"id\"],body=models40.WriteUser(is_disabled = False))\n",
        "        user_deactivated_count += 1\n",
        "        print(\"Disabled user id {user_id}, {email}, whose last login date is {date}\".format(user_id = user[\"id\"], email=user[auth][\"email\"],date=last_login_date_str))\n",
        "      else:\n",
        "        user_skip_count += 1\n",
        "        print(\"Skipped user ID {user_id}, {email}, whose last attempted login is {date}\".format(user_id = user[\"id\"],email=user[auth][\"email\"], date=last_login_date_str))\n",
        "\n",
        "  print(\"Deactivated {user_deactivated_count} users\".format(user_deactivated_count=user_deactivated_count))\n",
        "\n",
        "\n",
        "# Example call\n",
        "deactivate(auth_method=\"email\", days=180)"
      ],
      "execution_count": null,
      "outputs": []
    }
  ]
}