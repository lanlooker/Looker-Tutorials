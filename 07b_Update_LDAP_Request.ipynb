{
  "nbformat": 4,
  "nbformat_minor": 0,
  "metadata": {
    "colab": {
      "name": "LDAP Update Request",
      "provenance": [],
      "toc_visible": true,
      "authorship_tag": "ABX9TyMxMXmTLB82w3I2N3rDitjN",
      "include_colab_link": true
    },
    "kernelspec": {
      "name": "python3",
      "display_name": "Python 3"
    }
  },
  "cells": [
    {
      "cell_type": "markdown",
      "metadata": {
        "id": "view-in-github",
        "colab_type": "text"
      },
      "source": [
        "<a href=\"https://colab.research.google.com/github/lanlooker/Looker-Tutorials/blob/main/07b_Update_LDAP_Request.ipynb\" target=\"_parent\"><img src=\"https://colab.research.google.com/assets/colab-badge.svg\" alt=\"Open In Colab\"/></a>"
      ]
    },
    {
      "cell_type": "code",
      "metadata": {
        "id": "O32whXzAZOjo"
      },
      "source": [
        "instance = 'https://company.looker.com' \n",
        "\n",
        "credential = {\n",
        "  'client_id': 'foo',\n",
        "  'client_secret': 'bar'    \n",
        "}"
      ],
      "execution_count": null,
      "outputs": []
    },
    {
      "cell_type": "code",
      "metadata": {
        "id": "vfMR9ptk3SJg"
      },
      "source": [
        "import requests\n",
        "import json\n",
        "import pprint as pp \n",
        "\n",
        "def login(instance, credential):\n",
        "\n",
        "   \"\"\" Return an access token to be used in subsequent API calls \n",
        "   An access token is only valid for 60 minutes and can not be extended\"\"\"\n",
        "\n",
        "   instance = instance \n",
        "   credential = credential\n",
        "   access_token = requests.post(instance+'/login', data=credential).json() \n",
        "   headers = {'Authorization': 'token ' +  access_token['access_token']}\n",
        "   return headers\n",
        "\n",
        "headers = login(instance = instance, credential = credential)\n",
        "\n",
        "data = {\n",
        "  \"enabled\": False\n",
        "}\n",
        "\n",
        "url = instance + '/api/4.0/ldap_config'\n",
        "\n",
        "update = requests.patch(url, headers = headers, json = data)\n",
        "print(update.status_code)  "
      ],
      "execution_count": null,
      "outputs": []
    }
  ]
}