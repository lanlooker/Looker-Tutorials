{
  "nbformat": 4,
  "nbformat_minor": 0,
  "metadata": {
    "colab": {
      "name": "07_Update LDAP.ipynb",
      "provenance": [],
      "collapsed_sections": [],
      "toc_visible": true,
      "include_colab_link": true
    },
    "kernelspec": {
      "display_name": "Python 3",
      "name": "python3"
    }
  },
  "cells": [
    {
      "cell_type": "markdown",
      "metadata": {
        "id": "view-in-github",
        "colab_type": "text"
      },
      "source": [
        "<a href=\"https://colab.research.google.com/github/lanlooker/Looker-Tutorials/blob/main/07_Update_LDAP.ipynb\" target=\"_parent\"><img src=\"https://colab.research.google.com/assets/colab-badge.svg\" alt=\"Open In Colab\"/></a>"
      ]
    },
    {
      "cell_type": "markdown",
      "metadata": {
        "id": "U9XdoaB6bKn_"
      },
      "source": [
        "**Purpose**: This script updates ldap setting for a Looker instance. \n",
        "Please click \"Open in Colab\" to run the script as a one-off task. The script can be downloaded as a .py file to run inside a server (refer to [this page](https://github.com/looker-open-source/sdk-codegen/blob/main/README.md#configuring-lookerini-or-env\n",
        ") to learn about `init` file) \n",
        "\n",
        "**How to run as a one-off task in Google Colab**: \n",
        "1. Provide client ID and secret key in the first cell, and run it (data will be deleted  after closing the tab)\n",
        "2. Run the remaining cells to call functions. \n",
        "\n",
        "**Note**: The script is out of scope for Looker chat support. For questions and comments, please post in Looker Community. "
      ]
    },
    {
      "cell_type": "code",
      "metadata": {
        "id": "yQk9RXssbJrj"
      },
      "source": [
        "!pip install looker_sdk\n",
        "import looker_sdk\n",
        "import os\n",
        "\n",
        "os.environ['LOOKERSDK_BASE_URL'] = 'https://company.cloud.looker.com/'\n",
        "os.environ['LOOKERSDK_CLIENT_ID'] = 'foo'\n",
        "os.environ['LOOKERSDK_CLIENT_SECRET'] = 'bar'\n",
        "\n",
        "#Initialize the SDK\n",
        "sdk = looker_sdk.init40() \n",
        "\n",
        "# Disable LDAP\n",
        "response = sdk.update_ldap_config(\n",
        "    body=looker_sdk.models40.WriteLDAPConfig(\n",
        "        enabled=False\n",
        "    ))\n",
        "print(response)"
      ],
      "execution_count": null,
      "outputs": []
    }
  ]
}